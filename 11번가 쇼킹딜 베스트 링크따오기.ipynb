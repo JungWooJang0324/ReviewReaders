{
 "cells": [
  {
   "cell_type": "code",
   "execution_count": 4,
   "id": "fe4396a6",
   "metadata": {},
   "outputs": [],
   "source": [
    "from selenium import webdriver\n",
    "import time\n",
    "from selenium.webdriver.chrome.service import Service\n",
    "from selenium.webdriver.chrome.options import Options\n",
    "from selenium.webdriver.common.by import By\n",
    "from webdriver_manager.chrome import ChromeDriverManager\n",
    "import random"
   ]
  },
  {
   "cell_type": "code",
   "execution_count": 5,
   "id": "10c9e29a",
   "metadata": {},
   "outputs": [],
   "source": [
    "# ChromeDriver 설정\n",
    "service = Service(ChromeDriverManager().install())\n",
    "options = Options()\n",
    "options.add_argument('--start-maximized')  # 전체화면 옵션\n",
    "options.add_argument('--disable-blink-features=AutomationControlled')  # 봇 탐지 우회\n",
    "\n",
    "driver = webdriver.Chrome(service=service, options=options)\n",
    "driver.implicitly_wait(10)"
   ]
  },
  {
   "cell_type": "code",
   "execution_count": null,
   "id": "74a6cd2c",
   "metadata": {},
   "outputs": [
    {
     "name": "stdout",
     "output_type": "stream",
     "text": [
      "0\n",
      "10\n",
      "20\n",
      "30\n",
      "40\n",
      "50\n",
      "60\n",
      "70\n",
      "80\n",
      "90\n",
      "100\n",
      "110\n",
      "120\n",
      "130\n",
      "140\n",
      "150\n",
      "160\n",
      "170\n",
      "180\n",
      "190\n"
     ]
    }
   ],
   "source": [
    "url = 'https://www.11st.co.kr/browsing/DealBest.tmall?method=getShockingDealBestMain'\n",
    "driver.get(url)\n",
    "# 드라이버 열릴 때까지 최대 3초 기다리기\n",
    "driver.implicitly_wait(3)\n",
    "\n",
    "# xpath가 순서대로 나와서 f string 으로 변수에 저장함\n",
    "\n",
    "product_name = []\n",
    "link = []\n",
    "\n",
    "for i in range(10):\n",
    "    # 상품 이름과 링크의 xpath\n",
    "    # for문과 f string이용\n",
    "    name_x = f'/html/body/div[2]/div[2]/div/div[2]/div[2]/ul/li[{i+1}]/div/a/div[2]/p'\n",
    "    link_x = f'/html/body/div[2]/div[2]/div/div[2]/div[2]/ul/li[{i+1}]/div/a'\n",
    "\n",
    "    temp1 = driver.find_element(By.XPATH, name_x).text\n",
    "    temp2 = driver.find_element(By.XPATH, link_x).get_attribute('href')\n",
    "    \n",
    "    product_name.append(temp1)\n",
    "    link.append(temp2)\n",
    "    \n",
    "    driver.execute_script(\"window.scrollTo(0, document.body.scrollHeight);\")\n",
    "    \n",
    "    if i % 10 == 0:\n",
    "        print(i)\n",
    "    \n",
    "    time.sleep(random.uniform(0,2))\n",
    "\n",
    "driver.quit()\n"
   ]
  },
  {
   "cell_type": "code",
   "execution_count": 7,
   "id": "0fc278fe",
   "metadata": {},
   "outputs": [
    {
     "data": {
      "text/plain": [
       "(200, 200)"
      ]
     },
     "execution_count": 7,
     "metadata": {},
     "output_type": "execute_result"
    }
   ],
   "source": [
    "len(product_name), len(link)"
   ]
  },
  {
   "cell_type": "code",
   "execution_count": 8,
   "id": "dd14b747",
   "metadata": {},
   "outputs": [
    {
     "data": {
      "text/html": [
       "<div>\n",
       "<style scoped>\n",
       "    .dataframe tbody tr th:only-of-type {\n",
       "        vertical-align: middle;\n",
       "    }\n",
       "\n",
       "    .dataframe tbody tr th {\n",
       "        vertical-align: top;\n",
       "    }\n",
       "\n",
       "    .dataframe thead th {\n",
       "        text-align: right;\n",
       "    }\n",
       "</style>\n",
       "<table border=\"1\" class=\"dataframe\">\n",
       "  <thead>\n",
       "    <tr style=\"text-align: right;\">\n",
       "      <th></th>\n",
       "      <th>상품명</th>\n",
       "      <th>링크</th>\n",
       "    </tr>\n",
       "  </thead>\n",
       "  <tbody>\n",
       "    <tr>\n",
       "      <th>0</th>\n",
       "      <td>[10%+T11%할인]탑텐 TOPTEN 본사직영 FW 온에어/ 티셔츠/ 팬츠 외</td>\n",
       "      <td>https://www.11st.co.kr/products/1815207391?inp...</td>\n",
       "    </tr>\n",
       "    <tr>\n",
       "      <th>1</th>\n",
       "      <td>어텐션무드 1+1이벤트 3천~9,900원 원가이하 겨울BEST 혜택!! 패딩/기모/...</td>\n",
       "      <td>https://www.11st.co.kr/products/7796016697?inp...</td>\n",
       "    </tr>\n",
       "    <tr>\n",
       "      <th>2</th>\n",
       "      <td>[30%] 흄, 겟유즈드 F/W 데일리룩 오픈 특가 - 자켓/코트/롱패딩/셔츠/니트...</td>\n",
       "      <td>https://www.11st.co.kr/products/6675102993?inp...</td>\n",
       "    </tr>\n",
       "    <tr>\n",
       "      <th>3</th>\n",
       "      <td>[정품 중고폰/리퍼폰] 갤럭시 S23/S22/S21/S20/노트20/플립/아이폰 중...</td>\n",
       "      <td>https://www.11st.co.kr/products/2772005094?inp...</td>\n",
       "    </tr>\n",
       "    <tr>\n",
       "      <th>4</th>\n",
       "      <td>모리나가 하이츄 딸기/포도 2종 35g x 20개입</td>\n",
       "      <td>https://www.11st.co.kr/products/6885008490?inp...</td>\n",
       "    </tr>\n",
       "    <tr>\n",
       "      <th>...</th>\n",
       "      <td>...</td>\n",
       "      <td>...</td>\n",
       "    </tr>\n",
       "    <tr>\n",
       "      <th>195</th>\n",
       "      <td>[르샵/보니스팍스/나인식스뉴욕] 겨울 BEST&amp;MD추천 인기아우터/코트/가디건/기모팬츠/</td>\n",
       "      <td>https://www.11st.co.kr/products/6597444007?inp...</td>\n",
       "    </tr>\n",
       "    <tr>\n",
       "      <th>196</th>\n",
       "      <td>[푸마 공식] 11월 스니커즈 신상/인기 아이템</td>\n",
       "      <td>https://www.11st.co.kr/products/3084309385?inp...</td>\n",
       "    </tr>\n",
       "    <tr>\n",
       "      <th>197</th>\n",
       "      <td>[다온샵]겨울신상 50%+T11%+당일발송!슬랙스/청바지/데님/코튼팬츠/스판슬랙스/...</td>\n",
       "      <td>https://www.11st.co.kr/products/1437861102?inp...</td>\n",
       "    </tr>\n",
       "    <tr>\n",
       "      <th>198</th>\n",
       "      <td>[키즈][11+25]9,960원~ 캐릭터 방한부츠 산리오 마블외 방한샌들 방한슈즈 ...</td>\n",
       "      <td>https://www.11st.co.kr/products/7326739011?inp...</td>\n",
       "    </tr>\n",
       "    <tr>\n",
       "      <th>199</th>\n",
       "      <td>[혜택 8,910원] 농가식품 말로만듣던떡볶이컵 8개 세트(혼합/짜장크림/짜장로제/매콤크</td>\n",
       "      <td>https://www.11st.co.kr/products/7538181367?inp...</td>\n",
       "    </tr>\n",
       "  </tbody>\n",
       "</table>\n",
       "<p>200 rows × 2 columns</p>\n",
       "</div>"
      ],
      "text/plain": [
       "                                                   상품명  \\\n",
       "0         [10%+T11%할인]탑텐 TOPTEN 본사직영 FW 온에어/ 티셔츠/ 팬츠 외   \n",
       "1    어텐션무드 1+1이벤트 3천~9,900원 원가이하 겨울BEST 혜택!! 패딩/기모/...   \n",
       "2    [30%] 흄, 겟유즈드 F/W 데일리룩 오픈 특가 - 자켓/코트/롱패딩/셔츠/니트...   \n",
       "3    [정품 중고폰/리퍼폰] 갤럭시 S23/S22/S21/S20/노트20/플립/아이폰 중...   \n",
       "4                         모리나가 하이츄 딸기/포도 2종 35g x 20개입   \n",
       "..                                                 ...   \n",
       "195  [르샵/보니스팍스/나인식스뉴욕] 겨울 BEST&MD추천 인기아우터/코트/가디건/기모팬츠/   \n",
       "196                         [푸마 공식] 11월 스니커즈 신상/인기 아이템   \n",
       "197  [다온샵]겨울신상 50%+T11%+당일발송!슬랙스/청바지/데님/코튼팬츠/스판슬랙스/...   \n",
       "198  [키즈][11+25]9,960원~ 캐릭터 방한부츠 산리오 마블외 방한샌들 방한슈즈 ...   \n",
       "199  [혜택 8,910원] 농가식품 말로만듣던떡볶이컵 8개 세트(혼합/짜장크림/짜장로제/매콤크   \n",
       "\n",
       "                                                    링크  \n",
       "0    https://www.11st.co.kr/products/1815207391?inp...  \n",
       "1    https://www.11st.co.kr/products/7796016697?inp...  \n",
       "2    https://www.11st.co.kr/products/6675102993?inp...  \n",
       "3    https://www.11st.co.kr/products/2772005094?inp...  \n",
       "4    https://www.11st.co.kr/products/6885008490?inp...  \n",
       "..                                                 ...  \n",
       "195  https://www.11st.co.kr/products/6597444007?inp...  \n",
       "196  https://www.11st.co.kr/products/3084309385?inp...  \n",
       "197  https://www.11st.co.kr/products/1437861102?inp...  \n",
       "198  https://www.11st.co.kr/products/7326739011?inp...  \n",
       "199  https://www.11st.co.kr/products/7538181367?inp...  \n",
       "\n",
       "[200 rows x 2 columns]"
      ]
     },
     "execution_count": 8,
     "metadata": {},
     "output_type": "execute_result"
    }
   ],
   "source": [
    "import pandas as pd\n",
    "\n",
    "# 동일한 길이의 리스트를 dataframe으로 추가하기\n",
    "df = pd.DataFrame([ x for x in zip(product_name, link)],columns = ['상품명','링크'])\n",
    "df\n",
    "\n"
   ]
  },
  {
   "cell_type": "code",
   "execution_count": 9,
   "id": "b44c991e",
   "metadata": {},
   "outputs": [],
   "source": [
    "df.to_csv(\"Shock_Best.csv\", encoding = \"utf-8-sig\")"
   ]
  },
  {
   "cell_type": "code",
   "execution_count": null,
   "id": "c4f6d4ae",
   "metadata": {},
   "outputs": [],
   "source": []
  }
 ],
 "metadata": {
  "kernelspec": {
   "display_name": "artprice",
   "language": "python",
   "name": "artprice"
  },
  "language_info": {
   "codemirror_mode": {
    "name": "ipython",
    "version": 3
   },
   "file_extension": ".py",
   "mimetype": "text/x-python",
   "name": "python",
   "nbconvert_exporter": "python",
   "pygments_lexer": "ipython3",
   "version": "3.10.15"
  }
 },
 "nbformat": 4,
 "nbformat_minor": 5
}
